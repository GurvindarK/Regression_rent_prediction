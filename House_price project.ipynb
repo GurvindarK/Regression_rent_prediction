{
 "cells": [
  {
   "cell_type": "code",
   "execution_count": 32,
   "id": "1fde42ff-5370-437f-87c2-c4eeb523d4b9",
   "metadata": {},
   "outputs": [],
   "source": [
    "import pandas as pd\n",
    "import numpy as np\n",
    "import matplotlib.pyplot as plt\n",
    "import seaborn as sns\n",
    "from sklearn.model_selection import cross_val_score, train_test_split\n",
    "from sklearn.linear_model import LinearRegression\n",
    "from sklearn.ensemble import RandomForestRegressor, GradientBoostingRegressor\n",
    "from sklearn.metrics import mean_squared_error\n",
    "from sklearn.preprocessing import StandardScaler\n"
   ]
  },
  {
   "cell_type": "code",
   "execution_count": 42,
   "id": "0c75390e-0587-4f0b-87ad-c1e754ce0249",
   "metadata": {},
   "outputs": [
    {
     "name": "stdout",
     "output_type": "stream",
     "text": [
      "<class 'pandas.core.frame.DataFrame'>\n",
      "RangeIndex: 25771 entries, 0 to 25770\n",
      "Data columns (total 18 columns):\n",
      " #   Column             Non-Null Count  Dtype  \n",
      "---  ------             --------------  -----  \n",
      " 0   rentfaster_id      25771 non-null  int64  \n",
      " 1   city               25771 non-null  object \n",
      " 2   province           25771 non-null  object \n",
      " 3   address            25646 non-null  object \n",
      " 4   latitude           25771 non-null  float64\n",
      " 5   longitude          25771 non-null  float64\n",
      " 6   lease_term         25725 non-null  object \n",
      " 7   type               25771 non-null  object \n",
      " 8   price              25771 non-null  float64\n",
      " 9   beds               25639 non-null  object \n",
      " 10  baths              25637 non-null  object \n",
      " 11  sq_feet            21659 non-null  object \n",
      " 12  link               25771 non-null  object \n",
      " 13  furnishing         25771 non-null  object \n",
      " 14  availability_date  25759 non-null  object \n",
      " 15  smoking            23069 non-null  object \n",
      " 16  cats               25598 non-null  object \n",
      " 17  dogs               25598 non-null  object \n",
      "dtypes: float64(3), int64(1), object(14)\n",
      "memory usage: 3.5+ MB\n"
     ]
    }
   ],
   "source": [
    "df=pd.read_csv('canada_rent.csv')\n",
    "df.info()"
   ]
  },
  {
   "cell_type": "code",
   "execution_count": 44,
   "id": "a05583c3-a886-42dc-87f7-f1b84b920c2c",
   "metadata": {},
   "outputs": [],
   "source": [
    "df.drop(['rentfaster_id' ,'link', 'availability_date', 'address','smoking', 'cats', 'dogs'], axis=1, inplace=True) \n",
    "df.drop(['city', 'type', 'furnishing'], axis=1, inplace=True) "
   ]
  },
  {
   "cell_type": "code",
   "execution_count": 46,
   "id": "feb4b915-8947-4483-8259-4bc166aa9533",
   "metadata": {},
   "outputs": [
    {
     "name": "stdout",
     "output_type": "stream",
     "text": [
      "<class 'pandas.core.frame.DataFrame'>\n",
      "RangeIndex: 25771 entries, 0 to 25770\n",
      "Data columns (total 8 columns):\n",
      " #   Column      Non-Null Count  Dtype  \n",
      "---  ------      --------------  -----  \n",
      " 0   province    25771 non-null  object \n",
      " 1   latitude    25771 non-null  float64\n",
      " 2   longitude   25771 non-null  float64\n",
      " 3   lease_term  25725 non-null  object \n",
      " 4   price       25771 non-null  float64\n",
      " 5   beds        25639 non-null  object \n",
      " 6   baths       25637 non-null  object \n",
      " 7   sq_feet     21659 non-null  object \n",
      "dtypes: float64(3), object(5)\n",
      "memory usage: 1.6+ MB\n"
     ]
    }
   ],
   "source": [
    "df.info()"
   ]
  },
  {
   "cell_type": "code",
   "execution_count": 48,
   "id": "e0eae0e6-3b29-4c98-9f3b-f663d7b6982d",
   "metadata": {},
   "outputs": [
    {
     "data": {
      "text/plain": [
       "province         0\n",
       "latitude         0\n",
       "longitude        0\n",
       "lease_term      46\n",
       "price            0\n",
       "beds           132\n",
       "baths          134\n",
       "sq_feet       4112\n",
       "dtype: int64"
      ]
     },
     "execution_count": 48,
     "metadata": {},
     "output_type": "execute_result"
    }
   ],
   "source": [
    "df.isnull().sum()"
   ]
  },
  {
   "cell_type": "code",
   "execution_count": 50,
   "id": "9c411abc-b9b4-4e2f-a23d-64bc66dae7b3",
   "metadata": {},
   "outputs": [
    {
     "data": {
      "text/plain": [
       "array(['2 Beds', '3 Beds', 'Studio', '1 Bed', '5 Beds', '4 Beds', nan,\n",
       "       '6 Beds', 'none Beds', '8 Beds', '7 Beds', '9 Beds'], dtype=object)"
      ]
     },
     "execution_count": 50,
     "metadata": {},
     "output_type": "execute_result"
    }
   ],
   "source": [
    "df['beds'].unique()"
   ]
  },
  {
   "cell_type": "code",
   "execution_count": 52,
   "id": "185f182c-1525-4eaf-a368-4166ff02155f",
   "metadata": {},
   "outputs": [
    {
     "data": {
      "text/plain": [
       "array(['2.5', '1', '2', '1.5', '3.5', nan, '4', '3', '5', 'none', '4.5',\n",
       "       '7.5', '5.5', '6', '6.5', '7', '8', '0'], dtype=object)"
      ]
     },
     "execution_count": 52,
     "metadata": {},
     "output_type": "execute_result"
    }
   ],
   "source": [
    "df['baths'].unique()"
   ]
  },
  {
   "cell_type": "code",
   "execution_count": 54,
   "id": "4a590981-8545-4c4e-ad87-748b39aecb3e",
   "metadata": {},
   "outputs": [
    {
     "data": {
      "text/plain": [
       "array(['Long Term', 'Negotiable', 'Short Term', '12 months', 'months',\n",
       "       '6 months', nan], dtype=object)"
      ]
     },
     "execution_count": 54,
     "metadata": {},
     "output_type": "execute_result"
    }
   ],
   "source": [
    "df['lease_term'].unique()"
   ]
  },
  {
   "cell_type": "code",
   "execution_count": 56,
   "id": "7b2eadf8-8a25-49d4-a58d-7fe00dec8d72",
   "metadata": {},
   "outputs": [
    {
     "name": "stderr",
     "output_type": "stream",
     "text": [
      "C:\\Users\\gurvi\\AppData\\Local\\Temp\\ipykernel_21244\\378545954.py:3: FutureWarning: Downcasting behavior in `replace` is deprecated and will be removed in a future version. To retain the old behavior, explicitly call `result.infer_objects(copy=False)`. To opt-in to the future behavior, set `pd.set_option('future.no_silent_downcasting', True)`\n",
      "  df['beds'] = df['beds'].replace({'2 Beds': 2, '3 Beds': 3, 'Studio': 0, '1 Bed': 1, '5 Beds': 5, '4 Beds': 4, '6 Beds': 6, 'none Beds': 0, '8 Beds': 8,\n"
     ]
    }
   ],
   "source": [
    "#replacing values\n",
    "df['beds'] = df['beds'].str.strip()  # Removes any extra spaces\n",
    "df['beds'] = df['beds'].replace({'2 Beds': 2, '3 Beds': 3, 'Studio': 0, '1 Bed': 1, '5 Beds': 5, '4 Beds': 4, '6 Beds': 6, 'none Beds': 0, '8 Beds': 8,\n",
    "    '7 Beds': 7, '9 Beds': 9 }).astype(float)\n",
    "\n"
   ]
  },
  {
   "cell_type": "code",
   "execution_count": 58,
   "id": "dedd6a86-787c-4dd6-9fdb-cd8e7c38f386",
   "metadata": {},
   "outputs": [
    {
     "name": "stderr",
     "output_type": "stream",
     "text": [
      "C:\\Users\\gurvi\\AppData\\Local\\Temp\\ipykernel_21244\\3437255635.py:2: FutureWarning: Downcasting behavior in `replace` is deprecated and will be removed in a future version. To retain the old behavior, explicitly call `result.infer_objects(copy=False)`. To opt-in to the future behavior, set `pd.set_option('future.no_silent_downcasting', True)`\n",
      "  df['baths'] = df['baths'].replace({'2.5':2.5, '1':1, '2':2, '1.5':1.5, '3.5':3.5,  '4':4, '3':3, '5':5, 'none':0, '4.5':4.5,\n"
     ]
    }
   ],
   "source": [
    "df['baths'] = df['baths'].str.strip()\n",
    "df['baths'] = df['baths'].replace({'2.5':2.5, '1':1, '2':2, '1.5':1.5, '3.5':3.5,  '4':4, '3':3, '5':5, 'none':0, '4.5':4.5,\n",
    "      '7.5':7.5, '5.5':5.5, '6':6, '6.5':6.5, '7':7, '8':8, '0':0}).astype(float)"
   ]
  },
  {
   "cell_type": "code",
   "execution_count": 60,
   "id": "da60830b-0199-4417-8c85-22f31edff4b9",
   "metadata": {},
   "outputs": [],
   "source": [
    "# group lease terms in 3 categories : Short Term, Long Term, Negotiable\n",
    "\n",
    "for index,row in df.iterrows():\n",
    "    if row['lease_term']=='12 months':\n",
    "        df.at[index,'lease_term']='Long Term'\n",
    "    elif row['lease_term']=='6 months':\n",
    "        df.at[index,'lease_term']='Short Term'\n",
    "    elif row['lease_term']=='months':\n",
    "        df.at[index,'lease_term']='Negotiable'\n",
    "    \n"
   ]
  },
  {
   "cell_type": "code",
   "execution_count": 62,
   "id": "37a50f3c-72ab-41e5-a52a-5c82246060f5",
   "metadata": {},
   "outputs": [
    {
     "data": {
      "text/plain": [
       "lease_term\n",
       "Long Term     23873\n",
       "Negotiable     1500\n",
       "Short Term      352\n",
       "Name: count, dtype: int64"
      ]
     },
     "execution_count": 62,
     "metadata": {},
     "output_type": "execute_result"
    }
   ],
   "source": [
    "df.groupby('lease_term')\n",
    "df['lease_term'].value_counts()"
   ]
  },
  {
   "cell_type": "code",
   "execution_count": 64,
   "id": "3ff82353-6388-42c1-b52d-e0e172348d7e",
   "metadata": {},
   "outputs": [
    {
     "name": "stdout",
     "output_type": "stream",
     "text": [
      "<class 'pandas.core.frame.DataFrame'>\n",
      "RangeIndex: 25771 entries, 0 to 25770\n",
      "Data columns (total 8 columns):\n",
      " #   Column      Non-Null Count  Dtype  \n",
      "---  ------      --------------  -----  \n",
      " 0   province    25771 non-null  object \n",
      " 1   latitude    25771 non-null  float64\n",
      " 2   longitude   25771 non-null  float64\n",
      " 3   lease_term  25725 non-null  object \n",
      " 4   price       25771 non-null  float64\n",
      " 5   beds        25639 non-null  float64\n",
      " 6   baths       25637 non-null  float64\n",
      " 7   sq_feet     21659 non-null  object \n",
      "dtypes: float64(5), object(3)\n",
      "memory usage: 1.6+ MB\n"
     ]
    }
   ],
   "source": [
    "df.info()"
   ]
  },
  {
   "cell_type": "code",
   "execution_count": 66,
   "id": "c1311d2d-e48f-497f-8ba5-b3da40bfd3ba",
   "metadata": {},
   "outputs": [
    {
     "data": {
      "text/plain": [
       "Index(['latitude', 'longitude', 'price', 'beds', 'baths'], dtype='object')"
      ]
     },
     "execution_count": 66,
     "metadata": {},
     "output_type": "execute_result"
    }
   ],
   "source": [
    "numeric_features=df.select_dtypes(include=[np.number])\n",
    "numeric_features.columns"
   ]
  },
  {
   "cell_type": "code",
   "execution_count": 68,
   "id": "5e147e6a-8bc2-478d-9e3d-ddff09bbdc90",
   "metadata": {},
   "outputs": [
    {
     "data": {
      "text/plain": [
       "Index(['province', 'lease_term', 'sq_feet'], dtype='object')"
      ]
     },
     "execution_count": 68,
     "metadata": {},
     "output_type": "execute_result"
    }
   ],
   "source": [
    "cat_features=df.select_dtypes(include=[object])\n",
    "cat_features.columns"
   ]
  },
  {
   "cell_type": "code",
   "execution_count": 70,
   "id": "94346abf-756f-4af1-9957-054f431b6162",
   "metadata": {},
   "outputs": [
    {
     "name": "stdout",
     "output_type": "stream",
     "text": [
      "price        1.000000\n",
      "baths        0.484878\n",
      "beds         0.425508\n",
      "longitude    0.109689\n",
      "latitude    -0.214687\n",
      "Name: price, dtype: float64 \n",
      "\n"
     ]
    }
   ],
   "source": [
    "correlation=numeric_features.corr()\n",
    "print(correlation['price'].sort_values(ascending=False),'\\n')"
   ]
  },
  {
   "cell_type": "code",
   "execution_count": 72,
   "id": "0196c765-d510-4d57-8112-7eb6c6364c94",
   "metadata": {},
   "outputs": [],
   "source": [
    "# from above correlation matrix, we can observe that longitude and latitude are least correlated to price of house, \n",
    "#so we can drop this two columns as well\n",
    "df.drop(['longitude', 'latitude'], axis=1, inplace=True)\n"
   ]
  },
  {
   "cell_type": "markdown",
   "id": "d9948bfc-cd0d-4638-9a27-adc171459168",
   "metadata": {},
   "source": [
    "# Outlier detection and treatment"
   ]
  },
  {
   "cell_type": "code",
   "execution_count": 75,
   "id": "dcc176db-2942-428c-b3f3-280d4717481f",
   "metadata": {},
   "outputs": [
    {
     "data": {
      "text/plain": [
       "<Axes: xlabel='price'>"
      ]
     },
     "execution_count": 75,
     "metadata": {},
     "output_type": "execute_result"
    },
    {
     "data": {
      "image/png": "[encoded data removed]",
      "text/plain": [
       "<Figure size 640x480 with 1 Axes>"
      ]
     },
     "metadata": {},
     "output_type": "display_data"
    }
   ],
   "source": [
    "sns.boxplot(x=df['price'])"
   ]
  },
  {
   "cell_type": "markdown",
   "id": "5671aed8-79aa-426c-ac03-2647abe8a77e",
   "metadata": {},
   "source": [
    "## there are many outliers but all outliers canot be removed\n",
    "If too many outliers are removed, it might introduce bias and model might only be accurate for a narrow price range and fail miserably on any unusual property. Expanding the interquartile range (IQR) threshold when detecting outliers can help retain more data.\n",
    "for that we will use a less strict multiplier on the IQR, such as 2.5 or 3 instead of the traditional 1.5 to target only extreme outliers without losing important variability."
   ]
  },
  {
   "cell_type": "code",
   "execution_count": 78,
   "id": "f3f18dc9-f539-42f2-9f80-fc3015f93a9a",
   "metadata": {},
   "outputs": [
    {
     "name": "stdout",
     "output_type": "stream",
     "text": [
      "original range 1600.0 2550.0\n",
      "modified range 175.0 4925.0\n"
     ]
    }
   ],
   "source": [
    "first_quartile=df['price'].quantile(.25)\n",
    "third_quartile=df['price'].quantile(.75)\n",
    "IQR=third_quartile-first_quartile\n",
    "\n",
    "new_upper_bound = third_quartile + 2.5*IQR\n",
    "new_lower_bound = first_quartile - 1.5*IQR\n",
    "\n",
    "print(\"original range\", first_quartile, third_quartile)\n",
    "print(\"modified range\",new_lower_bound, new_upper_bound)"
   ]
  },
  {
   "cell_type": "code",
   "execution_count": 80,
   "id": "3614a8b1-3efa-4d37-89a2-da0e7fab1989",
   "metadata": {},
   "outputs": [],
   "source": [
    "df.drop(df[df['price']>new_upper_bound].index, axis=0, inplace=True)\n",
    "df.drop(df[df['price']<new_lower_bound].index, axis=0, inplace=True)"
   ]
  },
  {
   "cell_type": "code",
   "execution_count": 82,
   "id": "93282b8d-2694-413c-a3d9-0fe880b55f03",
   "metadata": {},
   "outputs": [
    {
     "data": {
      "text/plain": [
       "<Axes: xlabel='price'>"
      ]
     },
     "execution_count": 82,
     "metadata": {},
     "output_type": "execute_result"
    },
    {
     "data": {
      "image/png": "[encoded data removed]",
      "text/plain": [
       "<Figure size 640x480 with 1 Axes>"
      ]
     },
     "metadata": {},
     "output_type": "display_data"
    }
   ],
   "source": [
    "sns.boxplot(x=df['price'])"
   ]
  },
  {
   "cell_type": "markdown",
   "id": "ca4c7b3d-d90a-43c8-a282-eb8fb2e6bc0c",
   "metadata": {},
   "source": [
    "# Handle missing values:"
   ]
  },
  {
   "cell_type": "code",
   "execution_count": 85,
   "id": "fd56a189-245e-4a3d-9f7f-83ea5732ae52",
   "metadata": {},
   "outputs": [],
   "source": [
    "\n",
    "#fill numeric columns with median values ( median is less sensitive to outliers), \n",
    "# and categorical columns with mode (frequently occured)\n",
    "\n",
    "from sklearn.impute import SimpleImputer\n",
    "\n",
    "# Initialize SimpleImputer with mean strategy for numerical column (age) and most_frequent for categorical column (embark_town)\n",
    "imputer_num = SimpleImputer(strategy='median')\n",
    "imputer_cat = SimpleImputer(strategy='most_frequent')\n",
    "\n",
    "# Apply imputation\n",
    "df['beds'] = imputer_num.fit_transform(df[['beds']])\n",
    "\n",
    "df['baths']= imputer_num.fit_transform(df[['baths']])\n",
    "\n"
   ]
  },
  {
   "cell_type": "code",
   "execution_count": 87,
   "id": "e9cfedcd-c09b-47f5-bf51-0a85c6d867b4",
   "metadata": {},
   "outputs": [
    {
     "data": {
      "text/plain": [
       "0"
      ]
     },
     "execution_count": 87,
     "metadata": {},
     "output_type": "execute_result"
    }
   ],
   "source": [
    "df['sq_feet'] = imputer_cat.fit_transform(df[['sq_feet']]).ravel()\n",
    "df['sq_feet'].isnull().sum()"
   ]
  },
  {
   "cell_type": "code",
   "execution_count": 89,
   "id": "31dd4631-02b8-42fc-ae34-e9bfe773a0f9",
   "metadata": {},
   "outputs": [
    {
     "name": "stderr",
     "output_type": "stream",
     "text": [
      "C:\\Users\\gurvi\\AppData\\Local\\Temp\\ipykernel_21244\\1510695775.py:2: FutureWarning: A value is trying to be set on a copy of a DataFrame or Series through chained assignment using an inplace method.\n",
      "The behavior will change in pandas 3.0. This inplace method will never work because the intermediate object on which we are setting values always behaves as a copy.\n",
      "\n",
      "For example, when doing 'df[col].method(value, inplace=True)', try using 'df.method({col: value}, inplace=True)' or df[col] = df[col].method(value) instead, to perform the operation inplace on the original object.\n",
      "\n",
      "\n",
      "  df['lease_term'].fillna('Long Term',inplace=True)\n"
     ]
    },
    {
     "data": {
      "text/plain": [
       "0"
      ]
     },
     "execution_count": 89,
     "metadata": {},
     "output_type": "execute_result"
    }
   ],
   "source": [
    "# since Long Term is the most common term, the nulls were replaced by Long Term\n",
    "df['lease_term'].fillna('Long Term',inplace=True)\n",
    "df['lease_term'].isnull().sum()"
   ]
  },
  {
   "cell_type": "code",
   "execution_count": 91,
   "id": "5875d444-393a-43cf-a06a-94ade166fe62",
   "metadata": {},
   "outputs": [
    {
     "data": {
      "text/plain": [
       "province      0\n",
       "lease_term    0\n",
       "price         0\n",
       "beds          0\n",
       "baths         0\n",
       "sq_feet       0\n",
       "dtype: int64"
      ]
     },
     "execution_count": 91,
     "metadata": {},
     "output_type": "execute_result"
    }
   ],
   "source": [
    "df.isnull().sum()"
   ]
  },
  {
   "cell_type": "code",
   "execution_count": 93,
   "id": "de410cf0-a9a6-467d-9656-7164b29b72d3",
   "metadata": {},
   "outputs": [],
   "source": [
    "from sklearn.preprocessing import OneHotEncoder, LabelEncoder\n",
    "\n",
    "# Create instance of OneHotEncoder\n",
    "encoder = OneHotEncoder(drop='first', sparse_output = False)\n",
    "\n",
    "# Encode the categorical 'sq_feet' feature\n",
    "Sq_feet = LabelEncoder()\n",
    "df['sq_feet'] = Sq_feet.fit_transform(df['sq_feet'])\n",
    "\n",
    "Province=LabelEncoder()\n",
    "df['province'] = Province.fit_transform(df['province'])\n",
    "\n",
    "Lease_term=LabelEncoder()\n",
    "df['lease_term'] = Lease_term.fit_transform(df['lease_term'])\n",
    "\n",
    "df=df.dropna()\n"
   ]
  },
  {
   "cell_type": "code",
   "execution_count": 95,
   "id": "f641ed38-4a00-4fde-a4ca-790ecc124a41",
   "metadata": {},
   "outputs": [
    {
     "name": "stdout",
     "output_type": "stream",
     "text": [
      "{0: 'Alberta', 1: 'British Columbia', 2: 'Manitoba', 3: 'New Brunswick', 4: 'Newfoundland and Labrador', 6: 'Nova Scotia', 5: 'Northwest Territories', 7: 'Ontario', 8: 'Quebec', 9: 'Saskatchewan'}\n"
     ]
    }
   ],
   "source": [
    "# Mapping encoded values back to original values\n",
    "encoded_provinces = df['province'].unique()\n",
    "decoded_provinces = Province.inverse_transform(encoded_provinces)\n",
    "\n",
    "# Creating a dictionary for easy lookup\n",
    "province_mapping = dict(zip(encoded_provinces, decoded_provinces))\n",
    "\n",
    "print(province_mapping)"
   ]
  },
  {
   "cell_type": "markdown",
   "id": "8de98165-2546-4d3b-b3ff-649421bc4353",
   "metadata": {},
   "source": [
    "# Note: 0: 'Alberta', 1: 'British Columbia', 2: 'Manitoba', 3: 'New Brunswick', 4: 'Newfoundland and Labrador', 6: 'Nova Scotia', 5: 'Northwest Territories', 7: 'Ontario', 8: 'Quebec', 9: 'Saskatchewan'"
   ]
  },
  {
   "cell_type": "code",
   "execution_count": 98,
   "id": "5dee1282-a690-4558-b1c5-7b64469f0fba",
   "metadata": {},
   "outputs": [
    {
     "data": {
      "text/plain": [
       "array([0, 1, 2, 3, 4, 6, 5, 7, 8, 9])"
      ]
     },
     "execution_count": 98,
     "metadata": {},
     "output_type": "execute_result"
    }
   ],
   "source": [
    "df['province'].unique()"
   ]
  },
  {
   "cell_type": "code",
   "execution_count": 100,
   "id": "e260f0cc-b5d9-4041-896e-5caf77c3621c",
   "metadata": {},
   "outputs": [
    {
     "name": "stdout",
     "output_type": "stream",
     "text": [
      "{457: '1403', 537: '1496', 247: '1180', 409: '1351', 1022: '361 Sq. Ft.', 1203: '525 Sq. Ft.', 1542: '810 Sq. Ft.', 920: '265 Sq. Ft.', 1771: '997', 2: '0', 1651: '900', 604: '1600', 1294: '602', 1632: '886', 135: '1086', 330: '1265', 1368: '667', 1370: '669', 1382: '680', 1702: '939', 105: '1056', 1755: '983', 1756: '984', 1347: '650', 926: '2700', 402: '1341', 517: '1470', 1479: '757', 589: '1575', 528: '1488', 808: '2100', 454: '1400', 609: '1608', 36: '1000', 61: '1018', 1520: '792', 674: '1726', 663: '1704', 435: '1382', 850: '2300', 358: '1300', 689: '1750', 1407: '700', 315: '1250', 1408: '700 Sq. Ft.', 1229: '550', 25: '1,500+', 897: '2500', 1379: '677', 552: '1515', 779: '2000', 1308: '616', 1742: '971', 1354: '654', 1422: '711', 1663: '906', 418: '1361', 855: '2328', 540: '1500  above grade', 1611: '870', 1745: '974', 407: '1350', 84: '1038', 539: '1500', 832: '2193 + Walkout Basement', 636: '1650', 1770: '996', 1723: '955', 153: '1100', 378: '1316', 28: '1,600', 899: '2504', 705: '1800', 391: '1329', 1440: '725', 508: '1458', 580: '1560+', 216: '1150', 805: '2088', 1728: '960', 1664: '907', 129: '1079', 1345: '648', 555: '1520', 565: '1536', 521: '1477', 661: '1700', 1286: '596', 1701: '938', 1264: '576', 303: '1236', 1797: 'approx. 1400', 1468: '750', 1586: '850', 306: '1240', 1505: '780', 19: '1,272', 1495: '772', 1456: '739', 1450: '733', 1563: '830', 1713: '948', 332: '1267', 1504: '779', 1658: '902', 1493: '771', 1197: '520', 1245: '560', 1492: '770', 1528: '800', 1268: '580', 1186: '510', 1519: '791', 1317: '625', 1695: '932', 1152: '483', 1205: '527', 1593: '854', 1547: '815', 1615: '873', 1738: '969', 1281: '591', 1633: '887', 217: '1151', 1291: '600', 1171: '500', 1556: '824', 1389: '685', 1372: '671', 1442: '727', 258: '1193', 69: '1026', 354: '1294', 1668: '910', 251: '1184', 1765: '993', 1424: '713', 1401: '697', 1279: '589', 1674: '916', 1567: '833', 1305: '613', 1302: '610', 1233: '551', 1085: '422', 1055: '396', 1047: '388', 1358: '658', 1418: '707', 1144: '475', 1225: '546', 1122: '458', 1680: '921', 1592: '853', 1266: '578', 1353: '653', 1452: '735', 1582: '846', 1691: '928', 1716: '950', 1506: '781', 1282: '592', 1194: '517', 1518: '790', 1219: '540', 1545: '813', 1541: '810', 1297: '605', 1323: '630', 1157: '488', 1630: '884', 1224: '545', 1438: '723', 1253: '567', 1337: '641', 1557: '825', 1214: '535', 1371: '670', 1604: '865', 1312: '620', 1209: '530', 1500: '775', 1124: '460', 374: '1312', 1275: '586', 1485: '763', 1303: '611', 1304: '612', 1322: '629', 1228: '549', 1608: '869', 1284: '594', 1521: '793', 1524: '796', 1262: '574', 1607: '868', 419: '1363', 1634: '888', 1215: '536', 653: '1688', 1640: '892', 1321: '628', 1265: '577', 1244: '559', 1662: '905', 1306: '614', 1325: '631', 1271: '583', 1319: '626', 1310: '618', 1720: '952', 1648: '898', 1476: '754', 67: '1024', 1374: '673', 1624: '879', 147: '1097', 164: '1103', 208: '1142', 1398: '694', 341: '1276', 1309: '617', 66: '1023', 137: '1088', 1750: '978', 1726: '958', 369: '1307', 1711: '946', 1761: '989', 1746: '975', 1719: '951', 1513: '786', 1360: '660', 1638: '890', 205: '1140', 73: '1030', 1243: '558', 1523: '795', 1546: '814', 1330: '635', 1538: '807', 1759: '987', 68: '1025', 133: '1084', 1512: '785', 1156: '487', 1457: '740', 1710: '945', 1307: '615', 186: '1121', 86: '1040', 1474: '752', 1380: '678', 1296: '604', 1583: '847', 99: '1050', 1736: '968', 1673: '915', 1366: '665', 1154: '485', 62: '1019', 1601: '862', 1405: '699', 65: '1022', 430: '1377', 491: '1442', 1193: '516', 136: '1087', 231: '1162', 441: '1388', 1699: '936', 1762: '990', 1400: '696', 1427: '716', 1507: '782', 1671: '913', 1332: '637', 1434: '720', 1376: '675', 1263: '575', 1149: '480', 1160: '490-652', 1466: '748', 103: '1054', 1461: '744', 1335: '639', 398: '1336', 532: '1491', 1313: '621', 527: '1487', 1357: '657', 1614: '872', 1336: '640', 1248: '563', 1482: '760', 1517: '789', 1449: '732', 1257: '570', 1339: '643', 1564: '831', 138: '1089', 1355: '655', 1760: '988', 1334: '638', 388: '1326', 338: '1273', 58: '1015', 1362: '662', 273: '1203', 1226: '547', 1579: '843', 1189: '513', 89: '1042', 1247: '562', 1628: '882', 209: '1143', 1679: '920', 1087: '424', 1049: '389', 1730: '962', 1568: '834', 1729: '961', 1644: '895', 1222: '543', 1464: '747', 474: '1423', 1176: '501', 1552: '820', 1165: '495', 1599: '860', 242: '1175', 1062: '402', 1436: '721', 1417: '706', 1447: '730', 1153: '484', 1213: '534', 175: '1113', 1697: '934', 1647: '897', 1377: '676', 1659: '903', 742: '1870', 357: '1298', 579: '1560', 1177: '502', 1448: '731', 1180: '505', 834: '2200', 266: '1200', 1477: '755', 640: '1657', 1127: '462', 890: '2480', 224: '1156', 803: '2082', 1460: '743', 764: '1954.86', 1320: '627', 686: '1743', 991: '3350', 1805: '~1000', 575: '1552', 852: '2300+1000', 483: '1432', 126: '1076', 1584: '848', 219: '1153', 289: '1220', 190: '1125', 377: '1315', 1643: '894 sq ft', 438: '1385', 793: '2049', 140: '1090', 716: '1813', 1350: '6500', 52: '1010', 12: '1,118', 1483: '761', 749: '1894', 510: '1460', 614: '1616', 145: '1095', 486: '1435', 156: '1100 sqft', 312: '1247', 72: '1029', 366: '1304', 1399: '695', 1733: '965', 1191: '515', 1292: '600+', 751: '1900', 1576: '841', 1788: 'Large', 325: '1260', 1161: '491', 1631: '885', 1212: '533', 166: '1105', 433: '1380', 768: '1970sf', 1394: '690', 1572: '838', 211: '1145', 509: '1459', 272: '1202', 1423: '712', 1594: '855', 1426: '715', 1672: '914', 1235: '553', 1569: '835', 471: '1420', 790: '2037', 586: '1570', 1544: '812', 284: '1214', 718: '1820', 1785: 'Approximately 700sf', 1074: '4123', 431: '1378', 1623: '878', 904: '2532', 520: '1476', 536: '1495', 379: '1317', 1793: 'approx 2200', 1767: '994', 664: '1707', 1490: '768', 1385: '682', 526: '1486', 787: '2018 (Not Including the Basement)', 1698: '935', 98: '1049', 1686: '925', 877: '2405', 1625: '880', 382: '1320', 833: '2194', 1613: '871', 1749: '977', 1283: '593', 174: '1112', 891: '2483', 1223: '544', 1558: '826', 1789: 'TOL 0X0', 498: '1450', 828: '2164', 361: '1300+', 425: '1370', 711: '1806', 1114: '450', 1202: '525', 866: '2372', 1293: '601', 551: '1511 sq.ft.', 380: '1318', 1288: '598', 572: '1550', 449: '1395', 848: '2266', 1718: '950.19', 384: '1322(bi-level)', 740: '1867', 376: '1314', 731: '1849', 1285: '595', 814: '2115', 958: '3000', 809: '2100 INCLUDE THE BASEMENT', 600: '1595', 876: '2400', 631: '1640', 652: '1686', 1421: '710', 1463: '746', 1497: '773', 1621: '877', 143: '1093', 1148: '479', 1661: '904', 397: '1335', 1383: '680 sq. ft.', 677: '1729', 1748: '976', 1340: '644', 1549: '817', 706: '1800 + 900 Basement', 970: '3100', 1211: '532', 1543: '811', 1234: '552', 838: '2228', 232: '1163', 662: '1700 plus unfinished basement', 1533: '802', 1636: '889', 1113: '449', 1220: '541', 1515: '787', 1258: '571', 85: '1039', 35: '100', 1486: '764', 1118: '454', 872: '2385', 160: '1100approx', 271: '1201', 93: '1046', 1530: '800+', 641: '1660', 201: '1136', 584: '1566', 896: '250', 576: '1553', 1587: '850+', 1167: '497', 1714: '949', 308: '1243', 1280: '590', 49: '1007', 1249: '564', 107: '1058', 1364: '664', 1813: '~750 sq ft', 525: '1485', 185: '1120', 1757: '985', 1082: '420', 1255: '569', 176: '1114', 1575: '840', 557: '1523', 1201: '524', 1617: '875', 1502: '777', 178: '1116', 1314: '622', 573: '1550-1750 sq.ft. ***This will vary due to range of different units', 1419: '708', 1123: '459', 71: '1028', 1465: '747.00', 990: '335', 1196: '519', 1744: '973', 470: '1419', 372: '1310', 1356: '656', 676: '1728', 1150: '481', 1775: 'About 1150', 714: '1811', 581: '1562', 1393: '689', 1432: '718 SQFT', 1501: '776', 102: '1053', 1600: '861', 880: '2430', 371: '1309', 1641: '893', 1790: 'about 500', 1669: '911', 781: '2000+', 1251: '565', 1581: '845', 713: '1810', 1259: '571 + 87', 709: '1802', 542: '1500+', 1411: '701', 683: '1736', 179: '1116.44', 5: '1,000', 1525: '797', 24: '1,442', 1026: '366', 1138: '470', 733: '1850', 767: '1962', 750: '1895', 479: '1428', 804: '2086', 434: '1381', 649: '1675', 1066: '406', 770: '1979', 10: '1,100', 590: '1576', 79: '1035', 914: '2600', 200: '1135', 734: '1851', 1591: '852.88', 936: '2800', 1416: '705', 198: '1132.37', 773: '1990', 15: '1,202', 210: '1144', 1273: '585', 1704: '940', 485: '1434', 700: '1790', 404: '1345', 1174: '500-600', 1566: '832', 1179: '504', 1256: '569+', 26: '1,521', 428: '1372', 1159: '490', 120: '1070', 1115: '451', 415: '1358', 317: '1251', 195: '1130', 108: '1059', 1616: '874', 1535: '804', 336: '1271', 1168: '498', 1375: '674', 1652: '900 Sq feet', 1290: '599', 1684: '923', 599: '1591', 255: '1190', 328: '1263', 748: '1891+1100', 334: '1269', 864: '2369', 1732: '964', 1409: '700 sqt   Approximately', 50: '1008', 458: '1404', 154: '1100 sf', 658: '1697', 88: '1041', 679: '1731', 1326: '632', 1677: '918.6', 1471: '750 approx', 593: '1580', 1763: '991', 737: '1860', 1678: '919', 327: '1262 sqft', 229: '1160', 1077: '415', 1536: '805', 1740: '970', 1629: '883', 1038: '378', 916: '2600+1200', 887: '2460', 320: '1254', 1090: '426', 114: '1065', 191: '1126', 158: '1100+1100', 697: '1777', 670: '1717', 504: '1453', 822: '2150', 181: '1118', 1361: '661', 234: '1165', 644: '1666', 1753: '981', 249: '1182', 21: '1,400', 682: '1735', 1056: '397', 1540: '809', 360: '1300 sqf', 760: '1930', 1277: '587', 1316: '624', 170: '1109', 1798: 'approx. 860 sq. ft.', 250: '1183', 468: '1416', 343: '1279', 1369: '668', 1341: '644 SQ FT', 460: '1406', 246: '1179', 651: '1682', 1496: '772.00', 1649: '899', 1811: '~600', 1139: '470--560', 1752: '980', 1751: '979', 698: '1785', 78: '1034', 63: '1020', 857: '2334', 873: '2390', 499: '1450 approx', 188: '1123', 1654: '900+', 46: '1004', 81: '1036', 300: '1233', 1425: '714', 33: '1,753', 1239: '556', 1059: '400', 125: '1075', 961: '3000sf', 109: '1060', 1782: 'Approx 934', 411: '1355', 642: '1664', 1796: 'approx. 1000', 703: '1795', 1787: 'HUGE HOUSE', 702: '1794', 1484: '762', 1469: '750 Sq', 352: '1290', 132: '1082', 265: '120 sq feet', 64: '1020 sq.ft.', 771: '1980', 1414: '703', 1035: '3750', 1343: '646', 1109: '445', 1590: '852', 1287: '597', 1252: '566', 1210: '531', 1554: '822', 1351: '651', 1384: '681', 1084: '421', 1163: '493', 1451: '734', 1119: '455', 1240: '556-572', 1480: '758', 1446: '729-750', 1689: '927', 1241: '556-674', 1445: '729-730', 836: '2209', 1166: '496', 545: '1504', 927: '2700+', 13: '1,153.90', 204: '1139', 647: '1672', 456: '1402', 505: '1454', 1009: '3500', 507: '1457', 436: '1383', 1642: '894', 831: '2188', 893: '2490', 177: '1115', 1550: '818', 667: '1713', 302: '1235.70', 747: '1890', 1324: '630 INDOOR, 78  PATIO', 874: '2391', 1095: '431', 785: '2015', 323: '1257', 1415: '704', 761: '1935', 786: '2017', 619: '1622', 820: '2140', 427: '1371+1141', 1551: '819', 886: '2458', 1724: '956', 615: '1618', 313: '1248', 621: '1624', 161: '1100sqft', 100: '1051', 39: '1000+', 608: '1605', 1342: '645', 1172: '500 +/-', 693: '1755', 1712: '947', 650: '1680', 106: '1057', 1588: '851', 763: '1950', 757: '1918', 80: '1035+455 finished basement', 727: '1837', 90: '1043', 333: '1268', 568: '1540', 1231: '550-650', 318: '1252', 587: '1571', 157: '1100 up and 1100 down', 76: '1032', 571: '1547', 1: '+/-800', 319: '1253', 1670: '912', 1190: '514', 541: '1500 (900 above + 600 below)', 859: '2347 ((1829sq ft + 518 sq ft basement)', 268: '1200 s.f. up & 1000 s.f. developed lower level', 447: '1393', 40: '1000sqf', 304: '1237', 453: '140', 821: '2146.44', 1238: '555', 696: '1774', 1783: 'Approx. 600', 884: '2450sqft', 824: '2152', 841: '2235', 851: '2300 total developed space', 253: '1186', 903: '2530', 1207: '528', 738: '1862', 979: '3200', 806: '2092', 1318: '625.20', 37: '1000 + 300 sf developed basement', 1206: '527.75', 1791: 'approx 1100 sq feet', 130: '1080', 322: '1256', 1794: 'approx 800', 901: '2514', 235: '1168', 538: '1497', 1413: '702', 730: '1842', 359: '1300 sft Basement, 350 sft Master bedroom, 800 sft Living and Dinning Room, full washroom incl. bath tub', 119: '1069', 476: '1425', 844: '2250', 9: '1,084 on the main floor (3,675 sqft lot size)', 1816: '~900', 775: '2,835 sq ft', 41: '1001', 339: '1274', 678: '1730', 759: '1926', 605: '1600 (including unfurnished basement)', 1367: '666', 889: '2475', 924: '2670', 915: '2600 of Living Space', 1333: '637 Sq Ft', 871: '2382', 1799: 'approximately 600', 1806: '~1300', 180: '1117', 248: '1181', 1403: '698.24', 1162: '492', 603: '160/145', 1667: '909', 1175: '500-650', 830: '2180', 870: '2380', 340: '1275', 1727: '959', 293: '1225', 612: '1612', 1639: '891', 259: '1194', 1597: '858', 1236: '553 sqft', 1365: '664 sqft', 1737: '968 sqft', 1508: '782 sqft', 1574: '839 sqft', 1577: '841 sqft', 42: '1001sqft', 1612: '870 sqft', 602: '160', 1683: '922.94', 659: '1699', 373: '1311', 1331: '636', 392: '1330', 316: '1250-1350', 1561: '828', 389: '1327', 1779: 'Approx 1350', 1137: '469', 791: '2041', 1717: '950 sq feet', 569: '1541', 1428: '717', 558: '1525', 1818: '~950 sq ft', 611: '1611', 752: '1900 approx total', 858: '2346', 1444: '729', 660: '170 × 120', 171: '1110', 1250: '564 ft2', 1626: '880.09', 818: '2130', 717: '1816', 27: '1,576', 1622: '877 approx.', 782: '2005', 305: '1237 Sq ft.', 825: '2156', 1532: '801', 482: '1431', 269: '1200 sq ft', 1781: 'Approx 450 sq ft', 588: '1574', 1618: '875 ft', 466: '1414', 1514: '786+260 balcony', 638: '1651', 16: '1,230 (980sf Above Ground, 250 Below)', 707: '1800 include basement', 1665: '908', 688: '1749', 908: '2568', 1462: '745', 701: '1793', 353: '1291', 1195: '518', 735: '1857', 1555: '823', 863: '2360', 1774: 'About 1000 sq ft per floor', 260: '1195', 502: '1452', 1778: 'Approx 1200', 766: '1961', 1784: 'Approx. 840', 582: '1564', 387: '1325', 1295: '603', 97: '1048.00', 530: '1490', 1804: '~ 950', 1184: '508', 1620: '876.13', 1431: '718 (Total 2 BR, 2 Bath Unit)', 960: '3000+Total', 1646: '896', 725: '1835', 1008: '350', 3: '0.00', 1329: '634', 881: '2442', 1539: '808', 1810: '~2300', 939: '2840', 1609: '869.78', 754: '1905', 743: '1874', 1772: '998', 128: '1078', 1230: '550 sq ft..', 898: '2500 includes walkout', 1402: '698', 789: '2025', 182: '1119', 1199: '522', 928: '2709.30', 1406: '70', 1478: '756', 38: '1000 sq ft total for both levels', 47: '1005', 1352: '652', 202: '1137', 183: '1119.46', 104: '1055', 1278: '588', 45: '1003 sq Ft', 900: '2510', 675: '1727', 741: '1868', 784: '2009', 1814: '~860', 1349: '650 Sqft', 362: '1300+400', 921: '2650', 1267: '579', 1656: '901', 633: '1644', 656: '1690 +', 1776: 'About 1500', 1619: '876', 503: '1452 on main level', 1722: '954', 721: '1825', 639: '1655', 1692: '929', 780: '2000 developed', 406: '1348', 583: '1565', 801: '2070', 710: '1805', 342: '1278', 444: '1390', 117: '1067 sq. feet + 1000 sq. feet developed basement', 87: '1040 sqft', 648: '1673', 1439: '724', 1128: '462.85', 522: '1480', 895: '2497', 262: '1197', 1232: '550-750', 910: '2575', 14: '1,192 SQFT', 1589: '851.43', 408: '1350+800', 1809: '~2000', 1007: '349', 812: '2109', 290: '1221', 194: '1129', 795: '2054', 769: '1973', 1808: '~1800 sft', 1627: '881', 1573: '839', 722: '1827', 862: '2357', 1430: '718 (One of the largest 2Bed2Bath  suit in Universitycity)', 753: '1900 sq foot', 813: '2112', 837: '2216', 413: '1356', 861: '2350', 429: '1375', 365: '1303', 1270: '582', 774: '2,235', 1391: '687', 946: '2880', 529: '1489', 823: '2150 Sq Ft: 1150 (Main) + 1000 (Lower )', 956: '2992 incl finished basement', 53: '1011', 149: '1099', 477: '1426', 1516: '788', 203: '1138', 885: '2452', 215: '1148', 233: '1164', 22: '1,435', 1605: '866', 0: '+/-500', 623: '1628', 1221: '542', 680: '1733', 1348: '650 +', 894: '2495', 843: '2246', 252: '1185', 1135: '468', 151: \"11.5' x 10.6' 122 sq ft\", 1800: 'apprx 300', 817: '2125', 34: '1,921', 1173: '500 Approx.', 1386: '683', 390: '1328', 1786: 'Around 800', 311: '1246', 585: '1569 + Basement', 840: '2230', 959: '3000+', 1388: '684.37', 1020: '3600', 414: '1357', 777: '20', 1218: '539', 1548: '816', 1553: '821', 18: '1,233.00', 17: '1,233', 29: '1,660', 1509: '782.47', 150: '10x11', 298: '1230', 1676: '918', 1344: '647', 1527: '799', 1373: '672', 1681: '921 + 900 SQ FT BALCONY!', 1499: '774', 163: '1102', 1338: '642', 1094: '430', 141: '1091', 48: '1006', 213: '1146.00', 1741: '970.7', 56: '1013.5', 23: '1,436.9', 207: '1141.2', 172: '1110.10', 1706: '941.5', 227: '1158.8', 83: '1037.6', 1655: '900.2', 1660: '903.00', 94: '1046.50', 11: '1,112.8', 1657: '901.2', 1768: '994.8', 221: '1153.5', 8: '1,061.4', 1511: '784', 351: '1288', 162: '1101', 70: '1027', 57: '1014', 77: '1033', 626: '1634', 1562: '829', 1182: '506sqft', 1526: '798', 59: '1016', 60: '1017', 344: '1280', 1034: '375', 173: '1111', 739: '1865', 1473: '751', 1169: '498-570', 44: '1003', 1560: '827', 239: '1171', 1454: '737', 1208: '529', 1040: '380', 1014: '355', 1580: '844', 381: '1319', 375: '1313', 440: '1387', 1481: '759', 1164: '494', 1096: '432', 1018: '360', 75: '1031', 286: '1216', 982: '3253', 370: '1308', 882: '2449', 883: '2450', 788: '2024', 1459: '742', 531: '1490 + 690 unfinished basement', 1792: 'approx 1850', 270: '1200+', 420: '1365', 669: '1715', 819: '2139', 566: '1539', 1807: '~1700', 535: '1494', 267: '1200 +', 1598: '859', 1102: '438', 95: '1047', 1381: '679', 192: '1127', 1708: '943', 1363: '663', 1254: '568', 1108: '444', 193: '1128', 113: '1064', 1467: '749', 1475: '753', 1534: '803', 1187: '511', 1578: '842', 299: '1232', 324: '1258', 1694: '931', 1387: '684', 1016: '357', 1571: '837', 256: '1191', 292: '1224', 516: '147', 567: '154', 549: '151', 732: '185', 237: '117', 443: '139', 947: '289', 1204: '526', 1700: '937', 1570: '836', 1289: '598-643', 1019: '360-388', 1645: '895-902', 307: '1242', 238: '1170', 261: '1196', 1688: '926', 1510: '783', 118: '1068', 367: '1305', 524: '1483', 146: '1096', 1491: '769', 122: '1072', 123: '1073', 1030: '371', 1328: '633', 91: '1044', 1069: '408', 1301: '609', 1489: '767', 1261: '573', 1006: '348', 368: '1306', 1027: '367', 1072: '411', 1682: '922', 1685: '924', 1696: '933', 1709: '944', 1145: '476', 985: '329', 1596: '857', 1134: '467', 335: '1270', 1121: '457', 922: '2665', 30: '1,693', 148: '1098', 218: '1152', 617: '1620', 101: '1052', 1635: '888 sq. ft.', 309: '1244', 240: '1173', 562: '1530', 845: '2252', 423: '1368', 798: '2063', 765: '1960', 243: '1176', 1130: '464', 624: '1631', 666: '1711', 168: '1107', 241: '1174', 462: '1410', 578: '1557', 1200: '523', 348: '1285', 681: '1734', 1274: '585-857', 1494: '771-1177', 426: '1371', 1404: '698.58', 606: '1600 sq ft', 1812: '~750', 518: '1471', 1392: '688', 993: '337', 1559: '826.78', 1637: '89', 1110: '446', 279: '1209', 1327: '632.28', 815: '2122', 264: '120', 1136: '468 - 624', 607: '1600+800 in Basement', 1603: '864', 412: '1355.83', 1531: '800sq', 1437: '722', 1503: '778', 512: '1462', 6: '1,000 SF', 4: '1', 690: '1752', 906: '2550', 1346: '649', 1378: '676.19', 1780: 'Approx 1400', 459: '1405', 1412: '701 Sq Ft', 778: '200', 437: '1384', 553: '1516', 999: '341', 932: '278', 952: '294', 1217: '538', 1585: '849', 1158: '489', 992: '336', 1359: '659', 704: '180', 1088: '425', 917: '261', 839: '223', 1106: '442', 1099: '435', 953: '295', 983: '326', 1458: '741', 1116: '452', 1693: '930', 951: '292', 1487: '765', 1216: '537', 1129: '463', 909: '257', 986: '330', 349: '1286', 1707: '942', 1081: '419', 997: '340', 964: '303', 1015: '356', 1595: '856', 197: '1132', 1112: '448', 829: '218', 1246: '561', 1000: '342', 1185: '509', 975: '315', 929: '272', 935: '280', 1227: '548', 1470: '750 Sq.Feet', 496: '1447', 1051: '391', 598: '1586', 275: '1205', 1004: '346', 1602: '863', 1429: '718', 350: '1287', 467: '1415', 534: '1493', 1802: 'around 900', 1472: '750 square feet', 1610: '87.5', 995: '3388', 1565: '831 + 75ft  Patio', 111: '1062', 285: '1215', 957: '300', 1498: '773.72', 860: '235', 594: '1581', 657: '1691', 1125: '4600', 244: '1177', 1029: '370', 1453: '736', 907: '2553', 1117: '453', 493: '1444', 96: '1048', 550: '1510', 595: '1582', 424: '1369', 1260: '572', 228: '1159', 971: '311', 1455: '738', 1057: '398', 826: '2160', 1269: '581', 220: '1153 + basement', 463: '1411', 465: '1413', 772: '1982', 54: '1012', 694: '1760', 673: '1725', 596: '1583', 1086: '423', 1801: 'around 600', 783: '2008', 481: '1430', 799: '2067', 577: '1555', 276: '1206', 383: '1321', 1653: '900 sq ft', 1705: '941', 152: '110', 296: '1228', 637: '1650+', 672: '1721', 618: '1620 sq ft', 563: '1532', 796: '2055', 416: '1359', 326: '1262', 20: '1,300 plus developed basement', 321: '1255', 32: '1,750', 616: '1619', 547: '1506', 422: '1367', 1276: '586.60', 1747: '975 square foot', 421: '1366', 878: '2429', 842: '2240', 31: '1,700', 746: '1885', 715: '1812', 1743: '972', 745: '1880', 628: '1636', 74: '1030 sq.ft', 519: '1475', 919: '2640', 691: '1753', 1155: '486', 403: '1343', 274: '1204', 911: '2577', 940: '2842', 1666: '908.48', 1529: '800 sqft for Condo, 150 sqft for balcony', 124: '1074', 116: '1067', 222: '1154', 613: '1615', 280: '1210', 489: '1440', 310: '1245', 439: '1386', 1754: '982', 1078: '416', 981: '325', 1050: '390', 451: '1398.24', 254: '1188', 570: '1546', 654: '1689', 301: '1235', 643: '1665', 1039: '379', 1721: '953', 131: '1081', 452: '1399', 835: '2200 sq ft', 1237: '554', 933: '279', 548: '1508', 112: '1063', 776: '2,842', 1083: '4200', 949: '2900', 744: '1879 (including finished basement)', 337: '1272', 629: '1638', 1443: '728', 934: '2799', 236: '1169', 189: '1124', 846: '2256', 417: '1360', 634: '1648', 1766: '993.30', 867: '2374', 364: '1302', 695: '1770', 199: '1134', 144: '1094', 1687: '925 sq ft', 488: '1438', 1803: 'single wide', 1522: '794', 1758: '986', 115: '1066', 1315: '623', 1300: '608', 355: '1295', 1433: '719', 281: '1211', 1242: '557', 646: '1670', 1068: '407', 1151: '482', 1198: '521', 1675: '917', 1170: '499', 1764: '992', 1395: '691', 1441: '726', 630: '1639', 965: '305', 400: '1339', 597: '1585', 726: '1836', 1037: '377', 196: '1131', 1126: '461', 892: '2484sqft', 1032: '373', 51: '1009', 1815: '~875', 1299: '607', 1075: '413', 1298: '606', 169: '1108', 1033: '374', 288: '1219', 827: '2161', 1690: '927.00', 1067: '406 Ft', 500: '1450sf', 511: '1461', 543: '1502', 394: '1332', 712: '1808', 544: '1503', 1537: '806', 393: '1331', 492: '1443', 1435: '720+240', 159: '1100.00', 533: '1492', 446: '1392', 1410: '700sqft', 708: '1800+', 346: '1282.05 + 1171', 591: '1577', 868: '2375', 110: '1061', 792: '2046', 937: '2812', 1396: '692', 925: '2691', 473: '1422', 699: '1786', 1817: '~950', 1795: 'approx 820', 729: '1840', 523: '1482.37', 665: '1708', 684: '1738', 622: '1625', 121: '1071', 671: '1719', 464: '1412', 155: '1100 sft', 1045: '386', 1606: '867', 1725: '957', 1104: '440', 1183: '507', 1101: '437', 978: '320-400', 1046: '387', 1054: '395', 1080: '418', 977: '320', 295: '1227', 1076: '414', 1311: '619', 1131: '465', 1120: '456', 1053: '393', 1071: '410', 1079: '417', 1132: '465+200', 1777: 'Approx 1000', 1028: '369', 1065: '405', 1070: '409', 987: '331', 994: '338', 1272: '584', 963: '302', 206: '1141', 1073: '412', 1017: '359', 574: '1551', 1089: '4250', 1734: '966', 212: '1146', 692: '1754', 1146: '477', 226: '1158', 515: '1469', 1731: '963', 314: '1249', 561: '1529', 1042: '383', 1091: '427', 1044: '385', 448: '1394', 1025: '365', 1390: '686', 245: '1178', 43: '1002', 287: '1217', 347: '1284', 484: '1433', 487: '1437', 736: '1858', 546: '1505', 480: '1429', 356: '1296', 405: '1346', 501: '1451', 1769: '995', 931: '276', 1133: '466', 1488: '766', 82: '1037', 294: '1226', 401: '1340', 998: '3400', 723: '1830', 142: '1092', 1181: '506', 445: '1391', 475: '1424', 728: '1839', 1031: '372', 1061: '401', 1052: '392', 966: '3050', 513: '1463', 432: '1379', 980: '321', 263: '1198', 1060: '4000', 592: '1578', 291: '1222', 283: '1213', 1420: '709', 395: '1333', 938: '284', 849: '230', 869: '238', 930: '275', 962: '301', 974: '314', 888: '247', 800: '207', 856: '233', 635: '165', 134: '1085', 627: '1635', 923: '267', 55: '1013', 912: '2594', 297: '1229', 223: '1155', 996: '339', 282: '1212', 655: '1690', 687: '1744', 816: '2124', 461: '1407', 92: '1045', 277: '1207', 1147: '478', 810: '2106', 450: '1397', 601: '1596', 1010: '351', 719: '1822', 554: '1517', 724: '1834', 797: '2060', 668: '1714', 942: '2850', 1105: '441', 225: '1157', 560: '1528', 1064: '404', 331: '1266', 1141: '472', 1093: '429', 1703: '94', 1739: '97', 184: '112', 976: '317', 807: '210', 139: '109', 645: '167', 945: '288', 1715: '95', 495: '1446', 497: '1449', 1012: '353', 950: '291', 1397: '693', 1005: '347', 514: '1464', 1097: '433', 7: '1,001', 794: '2050', 1178: '503', 905: '255', 944: '2874', 756: '1910', 610: '1609', 345: '1281', 127: '1077', 399: '1337', 1100: '436', 442: '1389', 469: '1417', 1023: '362', 1773: '999', 1735: '967', 165: '1104', 1188: '512', 1002: '344', 984: '328', 1043: '384', 967: '306', 969: '310', 875: '240', 1142: '473', 1036: '376', 1092: '428', 879: '243', 865: '237', 955: '297', 1111: '447', 941: '285', 847: '226', 1058: '399', 918: '264', 1013: '354', 1063: '403', 167: '1106', 762: '1945', 968: '307', 329: '1264', 187: '1122', 278: '1208', 396: '1334', 1024: '364', 1003: '345', 559: '1526', 564: '1535', 1041: '382', 1098: '434', 385: '1323', 1650: '90', 988: '333', 1011: '352', 685: '1742', 811: '2108', 478: '1427', 720: '1824', 472: '1421', 386: '1324', 455: '1401', 1021: '361', 758: '1925', 257: '1192', 854: '232', 853: '231', 1103: '439', 902: '253', 1143: '474', 410: '1352', 230: '1161', 1107: '443', 954: '296', 755: '191', 556: '1522', 214: '1147', 490: '1441', 802: '2076', 494: '1445', 973: '313-394', 1048: '388-434', 1192: '515-534', 972: '312', 1001: '343', 1140: '471', 363: '1301', 948: '290', 625: '1632', 632: '1641', 620: '1623', 506: '1456', 913: '260', 943: '286', 989: '334'}\n"
     ]
    }
   ],
   "source": [
    "# Mapping encoded values back to original values\n",
    "encoded_sq_feet = df['sq_feet'].unique()\n",
    "decoded_sq_feet = Sq_feet.inverse_transform(encoded_sq_feet)\n",
    "\n",
    "# Creating a dictionary for easy lookup\n",
    "sq_feet_mapping = dict(zip(encoded_sq_feet, decoded_sq_feet))\n",
    "\n",
    "print(sq_feet_mapping)"
   ]
  },
  {
   "cell_type": "code",
   "execution_count": 102,
   "id": "1cc8170b-1a44-416c-9aad-38dffc510f8c",
   "metadata": {},
   "outputs": [
    {
     "data": {
      "text/plain": [
       "array([457, 537, 247, ..., 913, 943, 989])"
      ]
     },
     "execution_count": 102,
     "metadata": {},
     "output_type": "execute_result"
    }
   ],
   "source": [
    "df['sq_feet'].unique()"
   ]
  },
  {
   "cell_type": "code",
   "execution_count": 104,
   "id": "30366f15-6c50-4aa2-995b-675ff7ea9ddb",
   "metadata": {},
   "outputs": [
    {
     "name": "stdout",
     "output_type": "stream",
     "text": [
      "{0: 'Long Term', 1: 'Negotiable', 2: 'Short Term'}\n"
     ]
    }
   ],
   "source": [
    "# Mapping encoded values back to original values\n",
    "encoded_lease_term = df['lease_term'].unique()\n",
    "decoded_lease_term = Lease_term.inverse_transform(encoded_lease_term)\n",
    "\n",
    "# Creating a dictionary for easy lookup\n",
    "lease_term_mapping = dict(zip(encoded_lease_term, decoded_lease_term))\n",
    "\n",
    "print(lease_term_mapping)"
   ]
  },
  {
   "cell_type": "code",
   "execution_count": 106,
   "id": "69970a1f-170d-49ad-be00-50eb8be1d96d",
   "metadata": {},
   "outputs": [
    {
     "data": {
      "text/html": [
       "<div>\n",
       "<style scoped>\n",
       "    .dataframe tbody tr th:only-of-type {\n",
       "        vertical-align: middle;\n",
       "    }\n",
       "\n",
       "    .dataframe tbody tr th {\n",
       "        vertical-align: top;\n",
       "    }\n",
       "\n",
       "    .dataframe thead th {\n",
       "        text-align: right;\n",
       "    }\n",
       "</style>\n",
       "<table border=\"1\" class=\"dataframe\">\n",
       "  <thead>\n",
       "    <tr style=\"text-align: right;\">\n",
       "      <th></th>\n",
       "      <th>province</th>\n",
       "      <th>lease_term</th>\n",
       "      <th>price</th>\n",
       "      <th>beds</th>\n",
       "      <th>baths</th>\n",
       "      <th>sq_feet</th>\n",
       "    </tr>\n",
       "  </thead>\n",
       "  <tbody>\n",
       "    <tr>\n",
       "      <th>0</th>\n",
       "      <td>0</td>\n",
       "      <td>0</td>\n",
       "      <td>2495.0</td>\n",
       "      <td>2.0</td>\n",
       "      <td>2.5</td>\n",
       "      <td>457</td>\n",
       "    </tr>\n",
       "    <tr>\n",
       "      <th>1</th>\n",
       "      <td>0</td>\n",
       "      <td>0</td>\n",
       "      <td>2695.0</td>\n",
       "      <td>3.0</td>\n",
       "      <td>2.5</td>\n",
       "      <td>537</td>\n",
       "    </tr>\n",
       "    <tr>\n",
       "      <th>2</th>\n",
       "      <td>0</td>\n",
       "      <td>0</td>\n",
       "      <td>2295.0</td>\n",
       "      <td>2.0</td>\n",
       "      <td>2.5</td>\n",
       "      <td>247</td>\n",
       "    </tr>\n",
       "    <tr>\n",
       "      <th>3</th>\n",
       "      <td>0</td>\n",
       "      <td>0</td>\n",
       "      <td>2095.0</td>\n",
       "      <td>2.0</td>\n",
       "      <td>2.5</td>\n",
       "      <td>457</td>\n",
       "    </tr>\n",
       "    <tr>\n",
       "      <th>4</th>\n",
       "      <td>0</td>\n",
       "      <td>0</td>\n",
       "      <td>2495.0</td>\n",
       "      <td>2.0</td>\n",
       "      <td>2.5</td>\n",
       "      <td>457</td>\n",
       "    </tr>\n",
       "  </tbody>\n",
       "</table>\n",
       "</div>"
      ],
      "text/plain": [
       "   province  lease_term   price  beds  baths  sq_feet\n",
       "0         0           0  2495.0   2.0    2.5      457\n",
       "1         0           0  2695.0   3.0    2.5      537\n",
       "2         0           0  2295.0   2.0    2.5      247\n",
       "3         0           0  2095.0   2.0    2.5      457\n",
       "4         0           0  2495.0   2.0    2.5      457"
      ]
     },
     "execution_count": 106,
     "metadata": {},
     "output_type": "execute_result"
    }
   ],
   "source": [
    "df.head()"
   ]
  },
  {
   "cell_type": "code",
   "execution_count": 108,
   "id": "602d37b9-695a-4cf0-aee7-33540218da94",
   "metadata": {},
   "outputs": [
    {
     "data": {
      "text/plain": [
       "province      0\n",
       "lease_term    0\n",
       "price         0\n",
       "beds          0\n",
       "baths         0\n",
       "sq_feet       0\n",
       "dtype: int64"
      ]
     },
     "execution_count": 108,
     "metadata": {},
     "output_type": "execute_result"
    }
   ],
   "source": [
    "df.isna().sum()"
   ]
  },
  {
   "cell_type": "code",
   "execution_count": 110,
   "id": "5dafe67d-fa6d-448a-a141-5fb5456d5d51",
   "metadata": {},
   "outputs": [
    {
     "name": "stdout",
     "output_type": "stream",
     "text": [
      "<class 'pandas.core.frame.DataFrame'>\n",
      "Index: 25167 entries, 0 to 25770\n",
      "Data columns (total 6 columns):\n",
      " #   Column      Non-Null Count  Dtype  \n",
      "---  ------      --------------  -----  \n",
      " 0   province    25167 non-null  int32  \n",
      " 1   lease_term  25167 non-null  int32  \n",
      " 2   price       25167 non-null  float64\n",
      " 3   beds        25167 non-null  float64\n",
      " 4   baths       25167 non-null  float64\n",
      " 5   sq_feet     25167 non-null  int32  \n",
      "dtypes: float64(3), int32(3)\n",
      "memory usage: 1.1 MB\n"
     ]
    }
   ],
   "source": [
    "df.info()"
   ]
  },
  {
   "cell_type": "markdown",
   "id": "827d6b0c-a25a-427a-9d50-929420239a6d",
   "metadata": {},
   "source": [
    "# Multicollinearity check"
   ]
  },
  {
   "cell_type": "code",
   "execution_count": 113,
   "id": "94a1d582-241f-4637-ad9d-bbddeffbdd18",
   "metadata": {},
   "outputs": [
    {
     "data": {
      "text/html": [
       "<div>\n",
       "<style scoped>\n",
       "    .dataframe tbody tr th:only-of-type {\n",
       "        vertical-align: middle;\n",
       "    }\n",
       "\n",
       "    .dataframe tbody tr th {\n",
       "        vertical-align: top;\n",
       "    }\n",
       "\n",
       "    .dataframe thead th {\n",
       "        text-align: right;\n",
       "    }\n",
       "</style>\n",
       "<table border=\"1\" class=\"dataframe\">\n",
       "  <thead>\n",
       "    <tr style=\"text-align: right;\">\n",
       "      <th></th>\n",
       "      <th>province</th>\n",
       "      <th>lease_term</th>\n",
       "      <th>price</th>\n",
       "      <th>beds</th>\n",
       "      <th>baths</th>\n",
       "      <th>sq_feet</th>\n",
       "    </tr>\n",
       "  </thead>\n",
       "  <tbody>\n",
       "    <tr>\n",
       "      <th>province</th>\n",
       "      <td>1.000000</td>\n",
       "      <td>-0.192626</td>\n",
       "      <td>0.147091</td>\n",
       "      <td>-0.226284</td>\n",
       "      <td>-0.229673</td>\n",
       "      <td>0.128754</td>\n",
       "    </tr>\n",
       "    <tr>\n",
       "      <th>lease_term</th>\n",
       "      <td>-0.192626</td>\n",
       "      <td>1.000000</td>\n",
       "      <td>-0.037549</td>\n",
       "      <td>0.048163</td>\n",
       "      <td>0.031914</td>\n",
       "      <td>-0.091392</td>\n",
       "    </tr>\n",
       "    <tr>\n",
       "      <th>price</th>\n",
       "      <td>0.147091</td>\n",
       "      <td>-0.037549</td>\n",
       "      <td>1.000000</td>\n",
       "      <td>0.420112</td>\n",
       "      <td>0.490159</td>\n",
       "      <td>0.030177</td>\n",
       "    </tr>\n",
       "    <tr>\n",
       "      <th>beds</th>\n",
       "      <td>-0.226284</td>\n",
       "      <td>0.048163</td>\n",
       "      <td>0.420112</td>\n",
       "      <td>1.000000</td>\n",
       "      <td>0.656425</td>\n",
       "      <td>-0.231339</td>\n",
       "    </tr>\n",
       "    <tr>\n",
       "      <th>baths</th>\n",
       "      <td>-0.229673</td>\n",
       "      <td>0.031914</td>\n",
       "      <td>0.490159</td>\n",
       "      <td>0.656425</td>\n",
       "      <td>1.000000</td>\n",
       "      <td>-0.180681</td>\n",
       "    </tr>\n",
       "    <tr>\n",
       "      <th>sq_feet</th>\n",
       "      <td>0.128754</td>\n",
       "      <td>-0.091392</td>\n",
       "      <td>0.030177</td>\n",
       "      <td>-0.231339</td>\n",
       "      <td>-0.180681</td>\n",
       "      <td>1.000000</td>\n",
       "    </tr>\n",
       "  </tbody>\n",
       "</table>\n",
       "</div>"
      ],
      "text/plain": [
       "            province  lease_term     price      beds     baths   sq_feet\n",
       "province    1.000000   -0.192626  0.147091 -0.226284 -0.229673  0.128754\n",
       "lease_term -0.192626    1.000000 -0.037549  0.048163  0.031914 -0.091392\n",
       "price       0.147091   -0.037549  1.000000  0.420112  0.490159  0.030177\n",
       "beds       -0.226284    0.048163  0.420112  1.000000  0.656425 -0.231339\n",
       "baths      -0.229673    0.031914  0.490159  0.656425  1.000000 -0.180681\n",
       "sq_feet     0.128754   -0.091392  0.030177 -0.231339 -0.180681  1.000000"
      ]
     },
     "execution_count": 113,
     "metadata": {},
     "output_type": "execute_result"
    }
   ],
   "source": [
    "corr_matrix = df.corr()\n",
    "corr_matrix"
   ]
  },
  {
   "cell_type": "code",
   "execution_count": 115,
   "id": "dc976bba-cbbd-4531-a4df-b991c0f7cf76",
   "metadata": {},
   "outputs": [
    {
     "data": {
      "image/png": "[encoded data removed]",
      "text/plain": [
       "<Figure size 640x480 with 2 Axes>"
      ]
     },
     "metadata": {},
     "output_type": "display_data"
    }
   ],
   "source": [
    "sns.heatmap(corr_matrix, annot=True, cmap='coolwarm', center=0)\n",
    "plt.show()"
   ]
  },
  {
   "cell_type": "markdown",
   "id": "56298c4e-0adf-429d-94ea-584c243e3c10",
   "metadata": {},
   "source": [
    "### Multicollinearity occurs when two or more independent variables are highly correlated, which can make it difficult for a regression model to estimate the relationship between each predictor and the dependent variable. We check for high correlation coefficients, typically above 0.7-0.8, which may indicate multicollinearity.\n",
    "\n",
    "### Beds and Baths: Correlation = 0.668883. This is close to a problematic threshold but still under 0.7. While there is moderate correlation, it may not be severe enough to warrant immediate concern. "
   ]
  },
  {
   "cell_type": "markdown",
   "id": "11760773-c6e5-43ea-9a4c-2821c4b440c0",
   "metadata": {},
   "source": [
    "# Splitting Data into Training and Testing Sets"
   ]
  },
  {
   "cell_type": "code",
   "execution_count": 119,
   "id": "13f25b3b-577a-4762-8ba9-b2625ef9d8cd",
   "metadata": {},
   "outputs": [],
   "source": [
    "X = df.drop(columns=['price'])\n",
    "y = df['price']\n",
    "\n",
    "# Split the dataset into training and testing sets\n",
    "X_train, X_test, y_train, y_test = train_test_split(X, y, test_size=0.2, random_state=42)\n",
    "\n",
    "# Standardize the features (important for models like linear regression and gradient boosting)\n",
    "scaler = StandardScaler()\n",
    "X_train_scaled = scaler.fit_transform(X_train)\n",
    "X_test_scaled = scaler.transform(X_test)\n",
    "\n",
    "\n",
    "\n"
   ]
  },
  {
   "cell_type": "code",
   "execution_count": 121,
   "id": "39bf74f5-c0a9-4997-9697-4cf7edb26080",
   "metadata": {},
   "outputs": [],
   "source": [
    "# Initialize models\n",
    "from sklearn.metrics import mean_absolute_error,mean_squared_error, r2_score\n",
    "linear_reg = LinearRegression()\n",
    "rf_reg = RandomForestRegressor(random_state=42)\n",
    "gboost_reg = GradientBoostingRegressor(random_state=42)\n",
    "\n",
    "# Train models and validate using 5-fold cross-validation\n",
    "models = {\n",
    "    'Linear Regression': linear_reg,\n",
    "    'Random Forest': rf_reg,\n",
    "    'Gradient Boosting': gboost_reg\n",
    "}\n",
    "\n"
   ]
  },
  {
   "cell_type": "code",
   "execution_count": 123,
   "id": "cd38e81f-ee9c-4bc2-b919-f65be4730ed1",
   "metadata": {},
   "outputs": [
    {
     "name": "stdout",
     "output_type": "stream",
     "text": [
      "               Model        RMSE         MAE            MSE        R2\n",
      "1      Random Forest  467.773169  318.183094  216030.899136  0.598067\n",
      "2  Gradient Boosting  497.977988  377.292350  267122.647568  0.503009\n",
      "0  Linear Regression  582.686285  444.278982  362058.346214  0.326378\n"
     ]
    }
   ],
   "source": [
    "model_results = []\n",
    "model_names = []\n",
    "model_mae = []\n",
    "model_mse = []\n",
    "model_r2 = []\n",
    "model_coefs = []\n",
    "\n",
    "for name, model in models.items():\n",
    "    # Cross-validation scores for MSE (negated to make positive)\n",
    "    scores = cross_val_score(model, X_train_scaled, y_train, scoring='neg_mean_squared_error', cv=5)\n",
    "    \n",
    "    # Mean RMSE from cross-validation\n",
    "    rmse_scores = np.sqrt(-scores)\n",
    "    mean_rmse = rmse_scores.mean()\n",
    "    \n",
    "    # Train the model and predict on the validation set\n",
    "    model.fit(X_train_scaled, y_train)\n",
    "    y_pred = model.predict(X_test_scaled)\n",
    "    \n",
    "    # Calculate MAE, MSE, and R2 score\n",
    "    mae = mean_absolute_error(y_test, y_pred)\n",
    "    mse = mean_squared_error(y_test, y_pred)\n",
    "    r2 = r2_score(y_test, y_pred)\n",
    "    \n",
    "    # Save model performance metrics\n",
    "    model_results.append(mean_rmse)\n",
    "    model_names.append(name)\n",
    "    model_mae.append(mae)\n",
    "    model_mse.append(mse)\n",
    "    model_r2.append(r2)\n",
    "    \n",
    "    \n",
    "# Create DataFrame for results\n",
    "df_results = pd.DataFrame({\n",
    "    'Model': model_names,\n",
    "    'RMSE': model_results,\n",
    "    'MAE': model_mae,\n",
    "    'MSE': model_mse,\n",
    "    'R2': model_r2,\n",
    "    \n",
    "}).sort_values(by='RMSE', ascending=True)\n",
    "\n",
    "# Print the results\n",
    "print(df_results)"
   ]
  },
  {
   "cell_type": "markdown",
   "id": "00ae6983-bc7f-4b8c-877e-3dc0291c90f4",
   "metadata": {},
   "source": [
    "### From above results, we can conclude that Random forest is best model among all three models with lowest error and highest R2 score, hence we will proceed with Random forest model."
   ]
  },
  {
   "cell_type": "markdown",
   "id": "bbcab85d-3dec-4d25-94bc-086eccd1d57e",
   "metadata": {},
   "source": [
    "### Prediction"
   ]
  },
  {
   "cell_type": "code",
   "execution_count": 157,
   "id": "dac516a2-c4cc-4063-bfff-fe7c2c083421",
   "metadata": {},
   "outputs": [
    {
     "name": "stdout",
     "output_type": "stream",
     "text": [
      "      Feature  Importance\n",
      "3       baths    0.339811\n",
      "4     sq_feet    0.334030\n",
      "0    province    0.203052\n",
      "2        beds    0.090560\n",
      "1  lease_term    0.032547\n"
     ]
    }
   ],
   "source": [
    "\n",
    "\n",
    "final_model = models['Random Forest']  \n",
    "\n",
    "# Train the final model on the entire training data\n",
    "final_model.fit(X_train_scaled, y_train)\n",
    "\n",
    "# Feature Importance for Random Forest\n",
    "feature_importance = final_model.feature_importances_\n",
    "\n",
    "# Create a DataFrame for better interpretation of feature importances\n",
    "features_df = pd.DataFrame({\n",
    "    'Feature': X_train.columns,  # Make sure columns are named accordingly\n",
    "    'Importance': feature_importance\n",
    "}).sort_values(by='Importance', ascending=False)\n",
    "\n",
    "# Display feature importances\n",
    "print(features_df)\n",
    "\n"
   ]
  },
  {
   "cell_type": "code",
   "execution_count": 153,
   "id": "2833f9c2-6b5d-4379-bd89-32b384c324b4",
   "metadata": {},
   "outputs": [
    {
     "name": "stdout",
     "output_type": "stream",
     "text": [
      "       True Values  Predicted Values\n",
      "15613       1315.0       1502.320238\n",
      "21356       1949.0       1925.838423\n",
      "19848       3607.0       3635.651688\n",
      "21465       2200.0       2249.812042\n",
      "22599       1671.0       1681.353500\n"
     ]
    }
   ],
   "source": [
    "# Generate predictions on the test set\n",
    "y_test_pred = final_model.predict(X_test_scaled)\n",
    "\n",
    "# Create a DataFrame to compare true and predicted values\n",
    "comparison_df = pd.DataFrame({\n",
    "    'True Values': y_test,\n",
    "    'Predicted Values': y_test_pred\n",
    "})\n",
    "\n",
    "# Display the first few rows of true vs predicted values\n",
    "print(comparison_df.head())"
   ]
  },
  {
   "cell_type": "markdown",
   "id": "11cb30f2-1863-4156-86a4-043a2193e7b6",
   "metadata": {},
   "source": [
    "### Predictions can be improved with hypertunning."
   ]
  }
 ],
 "metadata": {
  "kernelspec": {
   "display_name": "Python 3 (ipykernel)",
   "language": "python",
   "name": "python3"
  },
  "language_info": {
   "codemirror_mode": {
    "name": "ipython",
    "version": 3
   },
   "file_extension": ".py",
   "mimetype": "text/x-python",
   "name": "python",
   "nbconvert_exporter": "python",
   "pygments_lexer": "ipython3",
   "version": "3.12.4"
  }
 },
 "nbformat": 4,
 "nbformat_minor": 5
}
